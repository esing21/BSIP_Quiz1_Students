{
 "cells": [
  {
   "cell_type": "code",
   "execution_count": 9,
   "metadata": {},
   "outputs": [],
   "source": [
    "import thinkplot\n",
    "import thinkstats2\n",
    "import pandas as pd\n",
    "import numpy as np\n",
    "import seaborn as sns"
   ]
  },
  {
   "cell_type": "markdown",
   "metadata": {},
   "source": [
    "## Quiz 1\n",
    "\n",
    "Use this file as a starting point for your work. You are free to add/import any other libaries that you may want, though you shouldn't need much more, if anything. \n",
    "\n",
    "There are multiple approaches to solve each of the challenges. It is probably easiest to create a function that calculates a generic version of a solution, then takes in arguments for which data to use. There is an example of one of the functions I used to make a solution below. \n",
    "\n",
    "Please push you finished work into a repository on your github and paste the link in the final question. The responses on Moodle are what is graded, but your code will be glanced at to ensure you actually did the work and didn't do the calculations somewhere else. "
   ]
  },
  {
   "cell_type": "markdown",
   "metadata": {},
   "source": [
    "### Example Function"
   ]
  },
  {
   "cell_type": "code",
   "execution_count": 10,
   "metadata": {},
   "outputs": [],
   "source": [
    "# Here is the framework of my function for the first set of challenges\n",
    "\n",
    "#def rangeMag(df_in, columnName):\n",
    "# ...SOME CODE THAT CALCULATES STUFF...\n",
    "#    return retVal\n",
    "\n",
    "# When calling the function to use the code, it would look like this...\n",
    "\n",
    "# Nodeg\n",
    "#print(rangeMag(df, \"Nodeg\"))\n",
    "# Earnings_1974\n",
    "#print(rangeMag(df, \"Earnings_1974\"))\n",
    "# Earnings_1975\n",
    "#print(rangeMag(df, \"Earnings_1975\"))\n",
    "# Earnings_1978\n",
    "#print(rangeMag(df, \"Earnings_1978\"))\n"
   ]
  },
  {
   "cell_type": "markdown",
   "metadata": {},
   "source": [
    "### Load Some Data"
   ]
  },
  {
   "cell_type": "code",
   "execution_count": 11,
   "metadata": {},
   "outputs": [
    {
     "data": {
      "text/html": [
       "<div>\n",
       "<style scoped>\n",
       "    .dataframe tbody tr th:only-of-type {\n",
       "        vertical-align: middle;\n",
       "    }\n",
       "\n",
       "    .dataframe tbody tr th {\n",
       "        vertical-align: top;\n",
       "    }\n",
       "\n",
       "    .dataframe thead th {\n",
       "        text-align: right;\n",
       "    }\n",
       "</style>\n",
       "<table border=\"1\" class=\"dataframe\">\n",
       "  <thead>\n",
       "    <tr style=\"text-align: right;\">\n",
       "      <th></th>\n",
       "      <th>Age</th>\n",
       "      <th>Eduacation</th>\n",
       "      <th>Race</th>\n",
       "      <th>Hisp</th>\n",
       "      <th>MaritalStatus</th>\n",
       "      <th>Nodeg</th>\n",
       "      <th>Earnings_1974</th>\n",
       "      <th>Earnings_1975</th>\n",
       "      <th>Earnings_1978</th>\n",
       "    </tr>\n",
       "  </thead>\n",
       "  <tbody>\n",
       "    <tr>\n",
       "      <th>0</th>\n",
       "      <td>45</td>\n",
       "      <td>LessThanHighSchool</td>\n",
       "      <td>NotBlack</td>\n",
       "      <td>NotHispanic</td>\n",
       "      <td>Married</td>\n",
       "      <td>1</td>\n",
       "      <td>21516.670</td>\n",
       "      <td>25243.550</td>\n",
       "      <td>25564.670</td>\n",
       "    </tr>\n",
       "    <tr>\n",
       "      <th>1</th>\n",
       "      <td>21</td>\n",
       "      <td>Intermediate</td>\n",
       "      <td>NotBlack</td>\n",
       "      <td>NotHispanic</td>\n",
       "      <td>NotMarried</td>\n",
       "      <td>0</td>\n",
       "      <td>3175.971</td>\n",
       "      <td>5852.565</td>\n",
       "      <td>13496.080</td>\n",
       "    </tr>\n",
       "    <tr>\n",
       "      <th>2</th>\n",
       "      <td>38</td>\n",
       "      <td>HighSchool</td>\n",
       "      <td>NotBlack</td>\n",
       "      <td>NotHispanic</td>\n",
       "      <td>Married</td>\n",
       "      <td>0</td>\n",
       "      <td>23039.020</td>\n",
       "      <td>25130.760</td>\n",
       "      <td>25564.670</td>\n",
       "    </tr>\n",
       "    <tr>\n",
       "      <th>3</th>\n",
       "      <td>48</td>\n",
       "      <td>LessThanHighSchool</td>\n",
       "      <td>NotBlack</td>\n",
       "      <td>NotHispanic</td>\n",
       "      <td>Married</td>\n",
       "      <td>1</td>\n",
       "      <td>24994.370</td>\n",
       "      <td>25243.550</td>\n",
       "      <td>25564.670</td>\n",
       "    </tr>\n",
       "    <tr>\n",
       "      <th>4</th>\n",
       "      <td>18</td>\n",
       "      <td>LessThanHighSchool</td>\n",
       "      <td>NotBlack</td>\n",
       "      <td>NotHispanic</td>\n",
       "      <td>Married</td>\n",
       "      <td>1</td>\n",
       "      <td>1669.295</td>\n",
       "      <td>10727.610</td>\n",
       "      <td>9860.869</td>\n",
       "    </tr>\n",
       "  </tbody>\n",
       "</table>\n",
       "</div>"
      ],
      "text/plain": [
       "   Age          Eduacation      Race         Hisp MaritalStatus  Nodeg  \\\n",
       "0   45  LessThanHighSchool  NotBlack  NotHispanic       Married      1   \n",
       "1   21        Intermediate  NotBlack  NotHispanic    NotMarried      0   \n",
       "2   38          HighSchool  NotBlack  NotHispanic       Married      0   \n",
       "3   48  LessThanHighSchool  NotBlack  NotHispanic       Married      1   \n",
       "4   18  LessThanHighSchool  NotBlack  NotHispanic       Married      1   \n",
       "\n",
       "   Earnings_1974  Earnings_1975  Earnings_1978  \n",
       "0      21516.670      25243.550      25564.670  \n",
       "1       3175.971       5852.565      13496.080  \n",
       "2      23039.020      25130.760      25564.670  \n",
       "3      24994.370      25243.550      25564.670  \n",
       "4       1669.295      10727.610       9860.869  "
      ]
     },
     "execution_count": 11,
     "metadata": {},
     "output_type": "execute_result"
    }
   ],
   "source": [
    "df = pd.read_csv(\"LabourTrainingEvaluationData.csv\")\n",
    "df.head()"
   ]
  },
  {
   "cell_type": "markdown",
   "metadata": {},
   "source": [
    "### Challenge 1 - Magnitude of Range"
   ]
  },
  {
   "cell_type": "code",
   "execution_count": null,
   "metadata": {},
   "outputs": [],
   "source": []
  },
  {
   "cell_type": "markdown",
   "metadata": {},
   "source": [
    "### Challenge 2 - Percent of Values Above a Value"
   ]
  },
  {
   "cell_type": "code",
   "execution_count": null,
   "metadata": {},
   "outputs": [],
   "source": []
  },
  {
   "cell_type": "code",
   "execution_count": 19,
   "metadata": {},
   "outputs": [
    {
     "name": "stdout",
     "output_type": "stream",
     "text": [
      "Percentage of people in 1974 earning above $20,000:  35.77 %\n"
     ]
    }
   ],
   "source": [
    "high_earnings74 = (df['Earnings_1974'] > 20000).sum()\n",
    "count = df['Earnings_1974'].count()\n",
    "percentage = round(((high_earnings74/count) * 100), 2)\n",
    "print('Percentage of people in 1974 earning above $20,000: ', percentage, '%')\n"
   ]
  },
  {
   "cell_type": "code",
   "execution_count": 13,
   "metadata": {},
   "outputs": [
    {
     "name": "stdout",
     "output_type": "stream",
     "text": [
      "Percentage of people in 1978 earning above $25,000:  27.28 %\n"
     ]
    }
   ],
   "source": [
    "high_earnings78 = (df['Earnings_1978'] > 25000).sum()\n",
    "count = df['Earnings_1978'].count()\n",
    "percentage = round(((high_earnings78/count) * 100), 2)\n",
    "print('Percentage of people in 1978 earning above $25,000: ', percentage, '%')"
   ]
  },
  {
   "cell_type": "code",
   "execution_count": 21,
   "metadata": {},
   "outputs": [
    {
     "name": "stdout",
     "output_type": "stream",
     "text": [
      "Percentage of people in 1978 earning above $25,000:  27.28 %\n"
     ]
    }
   ],
   "source": [
    "high_earnings78 = (df['Earnings_1978'] > 25000).sum()\n",
    "count = df['Earnings_1978'].count()\n",
    "percentage = round(((high_earnings78/count) * 100), 2)\n",
    "print('Percentage of people in 1978 earning above $25,000: ', percentage, '%')\n"
   ]
  },
  {
   "cell_type": "markdown",
   "metadata": {},
   "source": [
    "What is median earnings in 1975? $14557 \n",
    "How many in 1978 earned above 1975? \n",
    "Calculate percentage for this."
   ]
  },
  {
   "cell_type": "code",
   "execution_count": 15,
   "metadata": {},
   "outputs": [
    {
     "name": "stdout",
     "output_type": "stream",
     "text": [
      "Percentage of people in 1978 earning above the median salary in 1975:  55.23 %\n"
     ]
    }
   ],
   "source": [
    "high_earnings78 = (df['Earnings_1978'] > 14557).sum()\n",
    "count = df['Earnings_1978'].count()\n",
    "percentage = round(((high_earnings78/count) * 100), 2)\n",
    "print('Percentage of people in 1978 earning above the median salary in 1975: ', percentage, '%') "
   ]
  },
  {
   "cell_type": "markdown",
   "metadata": {},
   "source": [
    "### Challenge 3 - Mean of Differences"
   ]
  },
  {
   "cell_type": "code",
   "execution_count": 75,
   "metadata": {},
   "outputs": [
    {
     "name": "stdout",
     "output_type": "stream",
     "text": [
      "0         4048.000\n",
      "1        10320.109\n",
      "2         2525.650\n",
      "3          570.300\n",
      "4         8191.574\n",
      "           ...    \n",
      "15987     1217.914\n",
      "15988     5449.133\n",
      "15989     2487.914\n",
      "15990     3242.420\n",
      "15991     5648.936\n",
      "Name: diff_1, Length: 15992, dtype: float64\n",
      "mean of differences between 1974 and 1978:  5364.0\n"
     ]
    }
   ],
   "source": [
    "#calculate difference between _1974 and _1978\n",
    "df['diff_1'] = abs(df['Earnings_1974'] - df['Earnings_1978'])\n",
    "print(df['diff_1'])\n",
    "\n",
    "mean = df['diff_1'].mean()\n",
    "print('mean of differences between 1974 and 1978: ', round(mean, 1))"
   ]
  },
  {
   "cell_type": "markdown",
   "metadata": {},
   "source": [
    "### Challenge 4 - Count of Values in Range"
   ]
  },
  {
   "cell_type": "code",
   "execution_count": 31,
   "metadata": {},
   "outputs": [
    {
     "name": "stdout",
     "output_type": "stream",
     "text": [
      "1793\n",
      "Values that fall between 10,000 and 15,000:  1793\n"
     ]
    }
   ],
   "source": [
    "value1 = (10000 <= df['Earnings_1974']).sum() & (df['Earnings_1974'] <= 15000).sum()\n",
    "print(value1)\n",
    "print('Values that fall between 10,000 and 15,000: ', value1)"
   ]
  },
  {
   "cell_type": "code",
   "execution_count": 35,
   "metadata": {},
   "outputs": [
    {
     "ename": "SyntaxError",
     "evalue": "unmatched ')' (2122599144.py, line 1)",
     "output_type": "error",
     "traceback": [
      "\u001b[1;36m  Input \u001b[1;32mIn [35]\u001b[1;36m\u001b[0m\n\u001b[1;33m    age_range = 18 <= df['Age']).sum() & (df['Age'] <= 49).sum()\u001b[0m\n\u001b[1;37m                               ^\u001b[0m\n\u001b[1;31mSyntaxError\u001b[0m\u001b[1;31m:\u001b[0m unmatched ')'\n"
     ]
    }
   ],
   "source": [
    "age_range = (18 <= df['Age']).sum() & (df['Age'] <= 49).sum()\n",
    "print('People that fall between 18 and 49 years old: ', age_range)"
   ]
  },
  {
   "cell_type": "markdown",
   "metadata": {},
   "source": [
    "Find number of people in their 20s: 5088\n",
    "Find the mean and median earnings in 1978: 14846 and 16421\n",
    "Then find number of people in their 20s that earned between those values in 1978."
   ]
  },
  {
   "cell_type": "code",
   "execution_count": 45,
   "metadata": {},
   "outputs": [
    {
     "name": "stdout",
     "output_type": "stream",
     "text": [
      "5088\n",
      "Mean earnings:  14846\n",
      "Median earnings:  16421\n",
      "Number of People in their 20s who earned the median and mean earnings in 1978:  512\n"
     ]
    }
   ],
   "source": [
    "#number of people in their 20s\n",
    "age = (df['Age'] >= 20).sum() & (df['Age'] <= 29).sum()\n",
    "print(age)\n",
    "\n",
    "#mean and median earning in 1978\n",
    "mean = df['Earnings_1978'].mean()\n",
    "median = df['Earnings_1978'].median()\n",
    "print('Mean earnings: ', int(mean))\n",
    "print('Median earnings: ', int(median))\n",
    "\n",
    "#find number of people in their 20s that earned between the mean and median earnings in 1978\n",
    "twenties = ((df['Age'] >= 20).sum() & (df['Age'] <= 29).sum()) & (df['Earnings_1978'] > 14846).sum() & (df['Earnings_1978']< 16421).sum()\n",
    "print('Number of People in their 20s who earned the median and mean earnings in 1978: ', twenties)\n"
   ]
  },
  {
   "cell_type": "markdown",
   "metadata": {},
   "source": [
    "### Challenge 5 - Basic Stats Calculations"
   ]
  },
  {
   "cell_type": "code",
   "execution_count": 66,
   "metadata": {},
   "outputs": [
    {
     "name": "stdout",
     "output_type": "stream",
     "text": [
      "91580993.44097105\n"
     ]
    }
   ],
   "source": [
    "print(df['Earnings_1974'].describe())\n",
    "print(df['Earnings_1974'].var())\n"
   ]
  },
  {
   "cell_type": "code",
   "execution_count": 64,
   "metadata": {},
   "outputs": [
    {
     "name": "stdout",
     "output_type": "stream",
     "text": [
      "count    15992.000000\n",
      "mean     13650.803376\n",
      "std       9270.403225\n",
      "min          0.000000\n",
      "25%       4398.823000\n",
      "50%      14557.110000\n",
      "75%      22923.737500\n",
      "max      25243.550000\n",
      "Name: Earnings_1975, dtype: float64\n",
      "85940375.95151532\n"
     ]
    }
   ],
   "source": [
    "print(df['Earnings_1975'].describe())\n",
    "print(df['Earnings_1975'].var()) \n"
   ]
  },
  {
   "cell_type": "code",
   "execution_count": 67,
   "metadata": {},
   "outputs": [
    {
     "name": "stdout",
     "output_type": "stream",
     "text": [
      "count    15992.000000\n",
      "mean     14846.659673\n",
      "std       9647.391524\n",
      "min          0.000000\n",
      "25%       5669.298000\n",
      "50%      16421.975000\n",
      "75%      25564.670000\n",
      "max      25564.670000\n",
      "Name: Earnings_1978, dtype: float64\n",
      "93072163.22421418\n"
     ]
    }
   ],
   "source": [
    "print(df['Earnings_1978'].describe())\n",
    "print(df['Earnings_1978'].var())"
   ]
  },
  {
   "cell_type": "code",
   "execution_count": 78,
   "metadata": {},
   "outputs": [
    {
     "name": "stdout",
     "output_type": "stream",
     "text": [
      "Mean earnings:  14846\n",
      "Median earnings:  16421\n",
      "1575.3153270939874\n",
      "Mean earnings:  14016\n",
      "Median earnings:  15123\n",
      "1106.779695808831\n",
      "Mean earnings:  13650\n",
      "Median earnings:  14557\n",
      "906.3066239268392\n"
     ]
    }
   ],
   "source": [
    "mean78 = df['Earnings_1978'].mean()\n",
    "median78 = df['Earnings_1978'].median()\n",
    "print('Mean earnings: ', int(mean78))\n",
    "print('Median earnings: ', int(median78))\n",
    "diff_2 = abs(mean78 - median78)\n",
    "print(diff_2)\n",
    "\n",
    "mean74 = df['Earnings_1974'].mean()\n",
    "median74 = df['Earnings_1974'].median()\n",
    "print('Mean earnings: ', int(mean74))\n",
    "print('Median earnings: ', int(median74))\n",
    "diff_3 = abs(mean74 - median74)\n",
    "print(diff_3)\n",
    "\n",
    "mean75 = df['Earnings_1975'].mean()\n",
    "median75 = df['Earnings_1975'].median()\n",
    "print('Mean earnings: ', int(mean75))\n",
    "print('Median earnings: ', int(median75))\n",
    "diff_4 = abs(mean75 - median75)\n",
    "print(diff_4)"
   ]
  },
  {
   "cell_type": "markdown",
   "metadata": {},
   "source": [
    "### Challenge 6 - Cohort Calculations\n",
    "\n",
    "Here is some sample code that may be helpful:\n",
    "\n",
    "```python\n",
    "#Modification of cohort code to send back a tuple of results. \n",
    "#You could do this more manually as well.\n",
    "def cohort(df_in, cohort1, cohort2, cohort3, earningsColumn):\n",
    "    df_in[\"Cohort\"] = (df_in[cohort1]+df_in[cohort2]+df_in[cohort3])\n",
    "    cohortList = df_in[\"Cohort\"].unique()\n",
    "    i = 0\n",
    "    resList = []\n",
    "    while i < cohortList.size:\n",
    "        tmp = df_in[df_in.Cohort == cohortList[i]]\n",
    "        histTmp = thinkstats2.Hist(round(tmp[earningsColumn], -3))\n",
    "        resList.append((histTmp, cohortList[i], tmp[earningsColumn].median()))\n",
    "        i = i + 1\n",
    "    return resList\n",
    "```"
   ]
  },
  {
   "cell_type": "code",
   "execution_count": null,
   "metadata": {},
   "outputs": [],
   "source": []
  }
 ],
 "metadata": {
  "kernelspec": {
   "display_name": "Python 3.9.12 ('backup-workbook')",
   "language": "python",
   "name": "python3"
  },
  "language_info": {
   "codemirror_mode": {
    "name": "ipython",
    "version": 3
   },
   "file_extension": ".py",
   "mimetype": "text/x-python",
   "name": "python",
   "nbconvert_exporter": "python",
   "pygments_lexer": "ipython3",
   "version": "3.9.12"
  },
  "orig_nbformat": 4,
  "vscode": {
   "interpreter": {
    "hash": "7836f1f2bb01758c2f081cbc0b6eda6d6f6d7cc8036b48edd173a914d5383633"
   }
  }
 },
 "nbformat": 4,
 "nbformat_minor": 2
}
